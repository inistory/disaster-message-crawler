{
 "cells": [
  {
   "cell_type": "markdown",
   "metadata": {},
   "source": [
    "# SOS_msg_crawler"
   ]
  },
  {
   "cell_type": "code",
   "execution_count": 4,
   "metadata": {},
   "outputs": [],
   "source": [
    "#https://javan.tistory.com/1\n",
    "#https://dolhani.tistory.com/521\n",
    "import os\n",
    "from bs4 import BeautifulSoup\n",
    "from urllib.request import urlopen\n",
    "import pandas as pd\n",
    "from time import sleep\n",
    "\n",
    "# if not os.path.exists(output_path):\n",
    "#     os.makedirs(output_path)\n",
    "pageNO = [x for x in range(1,88)] \n",
    "df = pd.DataFrame(columns=['create_date', 'location_name', 'msg']) # 엑셀 헤더정보\n",
    "k = 0\n",
    "for i in range(len(pageNO)):\n",
    "    URL = 'http://apis.data.go.kr/1741000/DisasterMsg2/getDisasterMsgList?ServiceKey=(인증키)'+str(pageNO[i])+'&numOfRows=50&flag=Y'\n",
    "    if i!=0:\n",
    "        sleep(200)\n",
    "    data = urlopen(URL).read()\n",
    "    soup = BeautifulSoup(data, \"html.parser\")\n",
    "        \n",
    "    for item in soup.findAll(\"row\"):\n",
    "        df.loc[k] = [item.create_date.text, item.location_name.text, item.msg.text]\n",
    "        k=k+1\n",
    "df.to_csv('./SOSmsg.csv',encoding='utf-8-sig')"
   ]
  },
  {
   "cell_type": "markdown",
   "metadata": {},
   "source": [
    "# 메세지 전송 위치 구분"
   ]
  },
  {
   "cell_type": "code",
   "execution_count": 58,
   "metadata": {},
   "outputs": [],
   "source": [
    "f = open('SOSmsg.csv','r')\n",
    "rdr = csv.reader(f)\n",
    "list_a = []\n",
    "cnt = 0\n",
    "for line in rdr:\n",
    "    a = line[3].replace('[', '',1)\n",
    "    a = a.split(']', 1 )\n",
    "    list_a.append([line[0],line[1],line[2],a[0],a[-1]])\n",
    "ft = open('new.csv','w',newline='') \n",
    "wr = csv.writer(ft)\n",
    "wr.writerows(list_a)\n",
    " \n",
    "f.close()"
   ]
  }
 ],
 "metadata": {
  "kernelspec": {
   "display_name": "Python 3",
   "language": "python",
   "name": "python3"
  },
  "language_info": {
   "codemirror_mode": {
    "name": "ipython",
    "version": 3
   },
   "file_extension": ".py",
   "mimetype": "text/x-python",
   "name": "python",
   "nbconvert_exporter": "python",
   "pygments_lexer": "ipython3",
   "version": "3.6.9"
  }
 },
 "nbformat": 4,
 "nbformat_minor": 2
}
